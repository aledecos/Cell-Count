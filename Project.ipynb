{
 "cells": [
  {
   "cell_type": "markdown",
   "metadata": {},
   "source": [
    "# 1. Install Tools"
   ]
  },
  {
   "cell_type": "code",
   "execution_count": 1,
   "metadata": {},
   "outputs": [
    {
     "name": "stdout",
     "output_type": "stream",
     "text": [
      "Requirement already satisfied: mahotas in d:\\anacondaide\\lib\\site-packages (1.4.11)\n",
      "Requirement already satisfied: numpy in d:\\anacondaide\\lib\\site-packages (from mahotas) (1.18.1)\n"
     ]
    }
   ],
   "source": [
    "!python -m pip install mahotas"
   ]
  },
  {
   "cell_type": "markdown",
   "metadata": {},
   "source": [
    "# 2. Preprocessing"
   ]
  },
  {
   "cell_type": "code",
   "execution_count": 3,
   "metadata": {},
   "outputs": [],
   "source": [
    "import os\n",
    "import numpy as np\n",
    "import pylab\n",
    "import mahotas as mh\n",
    "\n",
    "from ipywidgets import interact, interactive\n",
    "import ipywidgets as widgets"
   ]
  },
  {
   "cell_type": "code",
   "execution_count": 4,
   "metadata": {},
   "outputs": [],
   "source": [
    "def getImage(directory: str, name: str) -> np.uint8: \n",
    "    image = None \n",
    "    imageFind = None\n",
    "    try:\n",
    "        data_directory = os.path.join('.', directory)\n",
    "        imageFind = os.path.join(data_directory, name)\n",
    "        # Find File\n",
    "        image = mh.imread(imageFind)\n",
    "    except:\n",
    "        return False, image, imageFind;\n",
    "    \n",
    "    \n",
    "    return True, image, imageFind;"
   ]
  },
  {
   "cell_type": "code",
   "execution_count": 5,
   "metadata": {},
   "outputs": [],
   "source": [
    "def convertType(image, newType='uint8') -> np.uint8:\n",
    "    return image.astype(newType)"
   ]
  },
  {
   "cell_type": "code",
   "execution_count": 6,
   "metadata": {},
   "outputs": [],
   "source": [
    "def getSpecs(image: np.uint8):\n",
    "    # Show Files\n",
    "    print (image.shape)\n",
    "    print (image.dtype)\n",
    "    print (image.max())\n",
    "    print (image.min())\n",
    "    return;"
   ]
  },
  {
   "cell_type": "code",
   "execution_count": 7,
   "metadata": {},
   "outputs": [],
   "source": [
    "def scaleMask(image: np.uint8) -> np.uint8:\n",
    "    image[960:1024, 0:200] = 0\n",
    "    return image"
   ]
  },
  {
   "cell_type": "markdown",
   "metadata": {},
   "source": [
    "# 3. Image Processing"
   ]
  },
  {
   "cell_type": "code",
   "execution_count": 8,
   "metadata": {},
   "outputs": [],
   "source": [
    "def threshold(image) -> int:\n",
    "    return mh.thresholding.otsu(image)"
   ]
  },
  {
   "cell_type": "code",
   "execution_count": 9,
   "metadata": {},
   "outputs": [],
   "source": [
    "def gaussian(image, kernel) -> float:\n",
    "    return mh.gaussian_filter(image, 3)"
   ]
  },
  {
   "cell_type": "code",
   "execution_count": 13,
   "metadata": {},
   "outputs": [],
   "source": [
    "def processing(Directory, ImageName, ThresholdSlider, GaussianSlider, sizeSlider):\n",
    "    found, image, imageFind = getImage(Directory, ImageName)\n",
    "    \n",
    "    if not found:\n",
    "        print(\"File Not Found\")\n",
    "        return;\n",
    "    else:\n",
    "        print(imageFind + \" Found!\")\n",
    "\n",
    "    # preprocessing\n",
    "    image = convertType(image)\n",
    "    scaleMask(image)\n",
    "    \n",
    "    # gaussian\n",
    "    smoothedImage = convertType(gaussian(image, GaussianSlider))\n",
    "    \n",
    "    #thresholding\n",
    "    labeled, nr_objects = mh.label(smoothedImage > ThresholdSlider)\n",
    "    \n",
    "    # size\n",
    "    sizes = mh.labeled.labeled_size(labeled)\n",
    "    too_big = np.where(sizes < sizeSlider)\n",
    "    too_big = np.asarray(too_big)    \n",
    "    labeled = mh.labeled.remove_regions(labeled, too_big) # remove\n",
    "    \n",
    "    \n",
    "    \n",
    "\n",
    "    labeled, nr_objects = mh.label(convertType(labeled))\n",
    "    \n",
    "    print (\"Cell Count: \" + str(nr_objects))\n",
    "    \n",
    "    \n",
    "    rmax = mh.regmax(labeled)\n",
    "    pylab.imshow(rmax*255)\n",
    "    \n",
    "    pylab.jet()\n",
    "    pylab.show()\n",
    "    \n",
    "    return;"
   ]
  },
  {
   "cell_type": "code",
   "execution_count": 14,
   "metadata": {},
   "outputs": [],
   "source": [
    "ThresholdSlider = widgets.IntSlider(\n",
    "    value=10,\n",
    "    min=10,\n",
    "    max=255,\n",
    "    step=1,\n",
    "    description='Thresholding',\n",
    "    disabled=False,\n",
    "    continuous_update=False,\n",
    "    orientation='horizontal',\n",
    "    readout=True,\n",
    "    readout_format='d'\n",
    ")\n",
    "GaussianSlider = widgets.IntSlider(\n",
    "    value=1,\n",
    "    min=1,\n",
    "    max=16,\n",
    "    step=1,\n",
    "    description='Kernel Gauss',\n",
    "    disabled=False,\n",
    "    continuous_update=False,\n",
    "    orientation='horizontal',\n",
    "    readout=True,\n",
    "    readout_format='d'\n",
    ")\n",
    "sizeSlider = widgets.IntSlider(\n",
    "    value=1,\n",
    "    min=10,\n",
    "    max=1500,\n",
    "    step=1,\n",
    "    description='Size',\n",
    "    disabled=False,\n",
    "    continuous_update=False,\n",
    "    orientation='horizontal',\n",
    "    readout=True,\n",
    "    readout_format='d'\n",
    ")\n",
    "\n",
    "Directory = widgets.Text(\n",
    "    description='Directory',\n",
    "    disabled=False,\n",
    "    continuous_update=True,\n",
    "    orientation='horizontal',\n",
    "    readout=True,\n",
    "    readout_format='d'\n",
    ")\n",
    "ImageName = widgets.Text(\n",
    "    description='Image Name',\n",
    "    disabled=False,\n",
    "    continuous_update=True,\n",
    "    orientation='horizontal',\n",
    "    readout=True,\n",
    "    readout_format='d'\n",
    ")\n"
   ]
  },
  {
   "cell_type": "markdown",
   "metadata": {},
   "source": [
    "# 4. Formation"
   ]
  },
  {
   "cell_type": "code",
   "execution_count": 15,
   "metadata": {},
   "outputs": [
    {
     "data": {
      "application/vnd.jupyter.widget-view+json": {
       "model_id": "fafa54a54ede4de2ba51884db8afbb94",
       "version_major": 2,
       "version_minor": 0
      },
      "text/plain": [
       "interactive(children=(Text(value='', description='Directory'), Text(value='', description='Image Name'), IntSl…"
      ]
     },
     "metadata": {},
     "output_type": "display_data"
    },
    {
     "data": {
      "text/plain": [
       "<function __main__.processing(Directory, ImageName, ThresholdSlider, GaussianSlider, sizeSlider)>"
      ]
     },
     "execution_count": 15,
     "metadata": {},
     "output_type": "execute_result"
    }
   ],
   "source": [
    "interact(processing, Directory=Directory, ImageName=ImageName, ThresholdSlider=ThresholdSlider, GaussianSlider=GaussianSlider, sizeSlider=sizeSlider)"
   ]
  },
  {
   "cell_type": "code",
   "execution_count": null,
   "metadata": {},
   "outputs": [],
   "source": []
  },
  {
   "cell_type": "code",
   "execution_count": null,
   "metadata": {},
   "outputs": [],
   "source": []
  }
 ],
 "metadata": {
  "kernelspec": {
   "display_name": "Python 3",
   "language": "python",
   "name": "python3"
  },
  "language_info": {
   "codemirror_mode": {
    "name": "ipython",
    "version": 3
   },
   "file_extension": ".py",
   "mimetype": "text/x-python",
   "name": "python",
   "nbconvert_exporter": "python",
   "pygments_lexer": "ipython3",
   "version": "3.7.6"
  }
 },
 "nbformat": 4,
 "nbformat_minor": 4
}
